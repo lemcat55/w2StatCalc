{
  "nbformat": 4,
  "nbformat_minor": 0,
  "metadata": {
    "colab": {
      "provenance": [],
      "toc_visible": true,
      "authorship_tag": "ABX9TyMHhyhbykWn1OOzCOAO8FoX",
      "include_colab_link": true
    },
    "kernelspec": {
      "name": "python3",
      "display_name": "Python 3"
    },
    "language_info": {
      "name": "python"
    }
  },
  "cells": [
    {
      "cell_type": "markdown",
      "metadata": {
        "id": "view-in-github",
        "colab_type": "text"
      },
      "source": [
        "<a href=\"https://colab.research.google.com/github/lemcat55/w2StatCalc/blob/main/Week2_Discrete_Probability.ipynb\" target=\"_parent\"><img src=\"https://colab.research.google.com/assets/colab-badge.svg\" alt=\"Open In Colab\"/></a>"
      ]
    },
    {
      "cell_type": "markdown",
      "source": [
        "# How to use this Application\n",
        "To use this application, you have to be signed in one of your Google accounts (e.g., have your Gmail open while working with Colab).\n",
        "In the Table of contents (on the left side of the application), find the type of the problem you are solving and click the item.\n",
        "Clicking the item will bring you to the code of the problem you are solving. You are not required to understand the code, but you can replace template imput values with your own input values. Input data is located between two lines ###########. After you make the changes, run the code in the cell by clicking the white triangle in the black circle. Do not be afraid to make errors: you always can close the application and open it again. It will start from the very beginning discarding all your previous changes."
      ],
      "metadata": {
        "id": "V7JJB8XvLFix"
      }
    },
    {
      "cell_type": "markdown",
      "source": [
        "# 1: Mean and Standard Deviation for a Given PMF"
      ],
      "metadata": {
        "id": "u5Xxo9OV7XFY"
      }
    },
    {
      "cell_type": "code",
      "execution_count": null,
      "metadata": {
        "colab": {
          "base_uri": "https://localhost:8080/"
        },
        "id": "nwUv0pwr0Dd2",
        "outputId": "400f0350-7a83-43f8-b5c5-27b6b817cc47"
      },
      "outputs": [
        {
          "output_type": "stream",
          "name": "stdout",
          "text": [
            "mean= 1.15\n",
            "variance= 1.4075\n",
            "stDev= 1.1863810517704672\n"
          ]
        }
      ],
      "source": [
        "import pandas as pd\n",
        "import numpy as np\n",
        "##  Enter your data #################\n",
        "x=np.array([0,      1,       2,      3,      4,       5])# values\n",
        "p=np.array([0.37, 0.31, 0.18, 0.09, 0.04, 0.01])# pmf\n",
        "######################################\n",
        "mean=(x*p).sum()\n",
        "variance=((x-mean)*(x-mean)*p).sum()\n",
        "stDev=np.sqrt(variance)\n",
        "print(\"mean=\",mean)\n",
        "print(\"variance=\",variance)\n",
        "print(\"stDev=\",stDev)"
      ]
    },
    {
      "cell_type": "markdown",
      "source": [],
      "metadata": {
        "id": "kMCQVl1aSpOy"
      }
    },
    {
      "cell_type": "markdown",
      "source": [
        "# 2: Tables of Binomial Distribution and Binomial Cumulative Distribution"
      ],
      "metadata": {
        "id": "liK3_sNKS5LL"
      }
    },
    {
      "cell_type": "code",
      "source": [
        "import matplotlib.pyplot as plt\n",
        "import numpy as np\n",
        "from scipy.stats import binom\n",
        "import pandas as pd\n",
        "##  Enter your data #################\n",
        "n=10\n",
        "p=0.4\n",
        "##########\n",
        "mean, var = binom.stats(n, p)\n",
        "std=np.sqrt(var)\n",
        "print('mean=',mean,'  std=',std)\n",
        "x=np.linspace(0,n,n+1)\n",
        "pmf=binom.pmf(x,n,p)\n",
        "cdf=binom.cdf(x,n,p)\n",
        "X={'X':x}\n",
        "df=pd.DataFrame(X)\n",
        "df['BinomDistr']=pmf\n",
        "df['CumBinomDistr']=cdf\n",
        "print('\\n',df.head(n+1))"
      ],
      "metadata": {
        "colab": {
          "base_uri": "https://localhost:8080/"
        },
        "id": "M4P9J97n_RBE",
        "outputId": "e7e2a6d1-fbd1-447b-b708-182d3f473435"
      },
      "execution_count": null,
      "outputs": [
        {
          "output_type": "stream",
          "name": "stdout",
          "text": [
            "mean= 4.0   std= 1.5491933384829668\n",
            "\n",
            "        X  BinomDistr  CumBinomDistr\n",
            "0    0.0    0.006047       0.006047\n",
            "1    1.0    0.040311       0.046357\n",
            "2    2.0    0.120932       0.167290\n",
            "3    3.0    0.214991       0.382281\n",
            "4    4.0    0.250823       0.633103\n",
            "5    5.0    0.200658       0.833761\n",
            "6    6.0    0.111477       0.945238\n",
            "7    7.0    0.042467       0.987705\n",
            "8    8.0    0.010617       0.998322\n",
            "9    9.0    0.001573       0.999895\n",
            "10  10.0    0.000105       1.000000\n"
          ]
        }
      ]
    },
    {
      "cell_type": "markdown",
      "source": [
        "# 3: Graphs of Binomial Distribution and Binomial Cumulative Distribution"
      ],
      "metadata": {
        "id": "QyZTy5TK0gBy"
      }
    },
    {
      "cell_type": "code",
      "source": [
        "import matplotlib.pyplot as plt\n",
        "import numpy as np\n",
        "from scipy.stats import binom\n",
        "import pandas as pd\n",
        "##  Enter your data #################\n",
        "n=10\n",
        "p=0.5\n",
        "##########\n",
        "x=np.linspace(0,n,n+1)\n",
        "pmf=binom.pmf(x,n,p)\n",
        "cdf=binom.cdf(x,n,p)\n",
        "plt.plot(x,pmf,\"r\",label='Binomial Distribution')\n",
        "plt.plot(x,cdf,\"b\",label='Cumulative Distribution')\n",
        "plt.xlabel(\"Number of Successes\")\n",
        "plt.legend(loc=\"upper left\")\n",
        "plt.show()"
      ],
      "metadata": {
        "colab": {
          "base_uri": "https://localhost:8080/",
          "height": 279
        },
        "id": "alRCOClu0wcr",
        "outputId": "bd74b2c2-5198-4adc-aea9-9f4921e55e9d"
      },
      "execution_count": null,
      "outputs": [
        {
          "output_type": "display_data",
          "data": {
            "text/plain": [
              "<Figure size 432x288 with 1 Axes>"
            ],
            "image/png": "[encoded data removed]"
          },
          "metadata": {
            "needs_background": "light"
          }
        }
      ]
    },
    {
      "cell_type": "markdown",
      "source": [
        "# 4: Binomial and Normal Distributions with the same mean and std"
      ],
      "metadata": {
        "id": "Fp6WYvWjWT2t"
      }
    },
    {
      "cell_type": "code",
      "source": [
        "from scipy import stats\n",
        "import matplotlib.pyplot as plt\n",
        "from scipy.stats import binom\n",
        "##  Enter your data #################\n",
        "n=60\n",
        "p=0.3\n",
        "###########\n",
        "mean, var = binom.stats(n, p)\n",
        "std=np.sqrt(var)\n",
        "print(\"mean=\",mean,\"  std=\",std)\n",
        "x=np.linspace(0,n,n+1)\n",
        "bd=binom.pmf(x,n,p)\n",
        "nd = stats.norm(mean, std).pdf(x)\n",
        "plt.plot(x,bd,\"r\",label=\"binomial\") # line\n",
        "plt.plot(x,nd, \"b\",label=\"normal\") # lie\n",
        "plt.legend(loc=\"upper left\")\n",
        "plt.show()"
      ],
      "metadata": {
        "colab": {
          "base_uri": "https://localhost:8080/",
          "height": 282
        },
        "id": "F0vMBPvxXGcz",
        "outputId": "eca7bd83-b3b6-4777-caaa-bf86bfaf692e"
      },
      "execution_count": null,
      "outputs": [
        {
          "output_type": "stream",
          "name": "stdout",
          "text": [
            "mean= 18.0   std= 3.5496478698597698\n"
          ]
        },
        {
          "output_type": "display_data",
          "data": {
            "text/plain": [
              "<Figure size 432x288 with 1 Axes>"
            ],
            "image/png": "[encoded data removed]"
          },
          "metadata": {
            "needs_background": "light"
          }
        }
      ]
    },
    {
      "cell_type": "markdown",
      "source": [
        "# 5: Binomial Probabilities"
      ],
      "metadata": {
        "id": "sYKaPmtWRqpT"
      }
    },
    {
      "cell_type": "code",
      "source": [
        "import numpy as np\n",
        "from scipy.stats import binom\n",
        "import matplotlib.pyplot as plt\n",
        "##  Enter your data #################\n",
        "n=4\n",
        "p=0.3\n",
        "X=2\n",
        "##############\n",
        "mean, var = binom.stats(n, p)\n",
        "std=np.sqrt(var)\n",
        "print(\"mean=\",mean)\n",
        "print(\"var=\",var)\n",
        "print(\"std=\",std)\n",
        "x1=int(mean-3*std)\n",
        "if x1<0: x1=0\n",
        "x2=int(mean+3*std)\n",
        "if x2==x1: x2=x1+1\n",
        "w=x2-x1+1\n",
        "if w>100: w=100\n",
        "x=np.linspace(x1,x2,w)\n",
        "plt.bar(x,binom.pmf(x,n,p))\n",
        "\n",
        "print(\"P( x=\",X,\")=\",binom.pmf(X,n,p))\n",
        "print(\"P( x<\",X,\")=\",binom.cdf(X-1,n,p))\n",
        "print(\"P( x<=\",X,\")=\",binom.cdf(X,n,p))\n",
        "print(\"P( x>\",X,\")=\",1-binom.cdf(X,n,p))\n",
        "print(\"P( x>=\",X,\")=\",1-binom.cdf(X-1,n,p))"
      ],
      "metadata": {
        "colab": {
          "base_uri": "https://localhost:8080/",
          "height": 404
        },
        "id": "unAP6HiERw3c",
        "outputId": "c7f11ba2-cc01-4543-f466-d2ceb0101f50"
      },
      "execution_count": null,
      "outputs": [
        {
          "output_type": "stream",
          "name": "stdout",
          "text": [
            "mean= 1.2\n",
            "var= 0.84\n",
            "std= 0.916515138991168\n",
            "P( x= 2 )= 0.26460000000000006\n",
            "P( x< 2 )= 0.6517000000000001\n",
            "P( x<= 2 )= 0.9163\n",
            "P( x> 2 )= 0.0837\n",
            "P( x>= 2 )= 0.34829999999999994\n"
          ]
        },
        {
          "output_type": "display_data",
          "data": {
            "text/plain": [
              "<Figure size 432x288 with 1 Axes>"
            ],
            "image/png": "[encoded data removed]"
          },
          "metadata": {
            "needs_background": "light"
          }
        }
      ]
    }
  ]
}